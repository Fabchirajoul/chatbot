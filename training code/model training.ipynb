{
 "cells": [
  {
   "cell_type": "code",
   "execution_count": 1,
   "id": "8718ba4c-b386-48ca-b355-7378d64e8f0b",
   "metadata": {},
   "outputs": [],
   "source": [
    "\n",
    "# import graphviz\n",
    "import numpy as np\n",
    "import pandas as pd\n",
    "import math\n",
    "import matplotlib.pyplot as plt\n",
    "import seaborn as sns\n",
    "from scipy import stats\n",
    "from sklearn import metrics, tree\n",
    "from imblearn.over_sampling import SMOTE #For over sampling\n",
    "from sklearn.tree import DecisionTreeClassifier, DecisionTreeRegressor\n",
    "from sklearn.model_selection import train_test_split\n",
    "from sklearn.preprocessing import StandardScaler, LabelEncoder\n",
    "from sklearn.metrics import accuracy_score, f1_score, recall_score, precision_score, roc_auc_score\n",
    "from sklearn.metrics import confusion_matrix, ConfusionMatrixDisplay, mean_squared_error, r2_score\n",
    "from sklearn.feature_selection import mutual_info_classif # Library to compute information gain\n",
    "from collections import Counter\n",
    "from sklearn.multiclass import OneVsRestClassifier\n",
    "from sklearn.preprocessing import StandardScaler, LabelEncoder, label_binarize\n",
    "from sklearn.neural_network import MLPClassifier\n",
    "from sklearn.metrics import accuracy_score, recall_score, precision_score\n",
    "from sklearn.metrics import confusion_matrix, ConfusionMatrixDisplay, RocCurveDisplay, roc_curve, auc, roc_auc_score\n",
    "from sklearn.ensemble import AdaBoostClassifier #Used everywhere.\n",
    "from sklearn.metrics import matthews_corrcoef #MCC  used everywhere\n",
    "\n",
    "\n",
    "#Models\n",
    "from sklearn.ensemble import ExtraTreesClassifier\n",
    "\n",
    "from sklearn.model_selection import train_test_split,GridSearchCV\n",
    "sns.set_style('whitegrid')\n",
    "import warnings\n",
    "warnings.filterwarnings(\"ignore\", category=FutureWarning)\n",
    "\n",
    "sns.set_theme(color_codes=True)"
   ]
  },
  {
   "cell_type": "code",
   "execution_count": 2,
   "id": "627707e8-9fda-4e4b-b367-c71c0a147fb5",
   "metadata": {},
   "outputs": [
    {
     "data": {
      "text/html": [
       "<div>\n",
       "<style scoped>\n",
       "    .dataframe tbody tr th:only-of-type {\n",
       "        vertical-align: middle;\n",
       "    }\n",
       "\n",
       "    .dataframe tbody tr th {\n",
       "        vertical-align: top;\n",
       "    }\n",
       "\n",
       "    .dataframe thead th {\n",
       "        text-align: right;\n",
       "    }\n",
       "</style>\n",
       "<table border=\"1\" class=\"dataframe\">\n",
       "  <thead>\n",
       "    <tr style=\"text-align: right;\">\n",
       "      <th></th>\n",
       "      <th>KEYWORDS</th>\n",
       "      <th>Purpose</th>\n",
       "    </tr>\n",
       "  </thead>\n",
       "  <tbody>\n",
       "    <tr>\n",
       "      <th>0</th>\n",
       "      <td>Bursaries</td>\n",
       "      <td>Bursaries</td>\n",
       "    </tr>\n",
       "    <tr>\n",
       "      <th>1</th>\n",
       "      <td>Scholarships</td>\n",
       "      <td>Bursaries</td>\n",
       "    </tr>\n",
       "    <tr>\n",
       "      <th>2</th>\n",
       "      <td>Grants</td>\n",
       "      <td>Bursaries</td>\n",
       "    </tr>\n",
       "    <tr>\n",
       "      <th>3</th>\n",
       "      <td>Fellowships</td>\n",
       "      <td>Bursaries</td>\n",
       "    </tr>\n",
       "    <tr>\n",
       "      <th>4</th>\n",
       "      <td>Financial Aid</td>\n",
       "      <td>Bursaries</td>\n",
       "    </tr>\n",
       "  </tbody>\n",
       "</table>\n",
       "</div>"
      ],
      "text/plain": [
       "        KEYWORDS    Purpose\n",
       "0      Bursaries  Bursaries\n",
       "1   Scholarships  Bursaries\n",
       "2         Grants  Bursaries\n",
       "3    Fellowships  Bursaries\n",
       "4  Financial Aid  Bursaries"
      ]
     },
     "execution_count": 2,
     "metadata": {},
     "output_type": "execute_result"
    }
   ],
   "source": [
    "# data = pd.read_excel(r\"./geotechnical data.xlsx\")\n",
    "df = pd.read_excel(r\"D:/SHARING PROJECTS/CHIETA/CHATBOT/dataset.xlsx\")\n",
    "df.head()"
   ]
  },
  {
   "cell_type": "code",
   "execution_count": 3,
   "id": "56539006-5719-49b7-a4c6-a23a0b266848",
   "metadata": {},
   "outputs": [
    {
     "data": {
      "text/plain": [
       "Index(['KEYWORDS', 'Purpose'], dtype='object')"
      ]
     },
     "execution_count": 3,
     "metadata": {},
     "output_type": "execute_result"
    }
   ],
   "source": [
    "df.columns"
   ]
  },
  {
   "cell_type": "markdown",
   "id": "ea9c9fda-cadd-478b-8abb-58b42e3a5507",
   "metadata": {},
   "source": [
    "## Exploratory data analysis"
   ]
  },
  {
   "cell_type": "code",
   "execution_count": 5,
   "id": "2c342e43-58c8-45eb-8668-b542f066dd8b",
   "metadata": {},
   "outputs": [
    {
     "name": "stdout",
     "output_type": "stream",
     "text": [
      "<class 'pandas.core.frame.DataFrame'>\n",
      "RangeIndex: 4021 entries, 0 to 4020\n",
      "Data columns (total 2 columns):\n",
      " #   Column    Non-Null Count  Dtype \n",
      "---  ------    --------------  ----- \n",
      " 0   KEYWORDS  4021 non-null   object\n",
      " 1   Purpose   4021 non-null   object\n",
      "dtypes: object(2)\n",
      "memory usage: 63.0+ KB\n"
     ]
    }
   ],
   "source": [
    "df.info()"
   ]
  },
  {
   "cell_type": "code",
   "execution_count": 6,
   "id": "7f52c98d-ecbb-4ecc-84a1-0291162684d1",
   "metadata": {},
   "outputs": [
    {
     "data": {
      "text/plain": [
       "KEYWORDS    3492\n",
       "Purpose        8\n",
       "dtype: int64"
      ]
     },
     "execution_count": 6,
     "metadata": {},
     "output_type": "execute_result"
    }
   ],
   "source": [
    "df.select_dtypes(include=\"object\").nunique()"
   ]
  },
  {
   "cell_type": "code",
   "execution_count": 7,
   "id": "a2665b54-c429-46ef-9d12-ece6621ec301",
   "metadata": {},
   "outputs": [
    {
     "data": {
      "image/png": "[encoded data removed]",
      "text/plain": [
       "<Figure size 1000x500 with 1 Axes>"
      ]
     },
     "metadata": {},
     "output_type": "display_data"
    }
   ],
   "source": [
    "# Select only categorical columns\n",
    "data = df.select_dtypes(include=\"object\")\n",
    "\n",
    "ax = data['Purpose'].value_counts().sort_index()\n",
    "ax.plot(kind='bar',\n",
    "          title='Keyword count for the different purposes',\n",
    "        xlabel='Purposes',\n",
    "        ylabel='count',\n",
    "          figsize=(10, 5))\n",
    "# print(\"Quantity value count: \\n\", ax)\n",
    "plt.show()"
   ]
  },
  {
   "cell_type": "code",
   "execution_count": 8,
   "id": "c3267fca-6285-4b10-bcfa-e101f906aab3",
   "metadata": {},
   "outputs": [
    {
     "data": {
      "text/html": [
       "<div>\n",
       "<style scoped>\n",
       "    .dataframe tbody tr th:only-of-type {\n",
       "        vertical-align: middle;\n",
       "    }\n",
       "\n",
       "    .dataframe tbody tr th {\n",
       "        vertical-align: top;\n",
       "    }\n",
       "\n",
       "    .dataframe thead th {\n",
       "        text-align: right;\n",
       "    }\n",
       "</style>\n",
       "<table border=\"1\" class=\"dataframe\">\n",
       "  <thead>\n",
       "    <tr style=\"text-align: right;\">\n",
       "      <th></th>\n",
       "      <th>KEYWORDS</th>\n",
       "      <th>Purpose</th>\n",
       "    </tr>\n",
       "  </thead>\n",
       "  <tbody>\n",
       "    <tr>\n",
       "      <th>count</th>\n",
       "      <td>4021</td>\n",
       "      <td>4021</td>\n",
       "    </tr>\n",
       "    <tr>\n",
       "      <th>unique</th>\n",
       "      <td>3492</td>\n",
       "      <td>8</td>\n",
       "    </tr>\n",
       "    <tr>\n",
       "      <th>top</th>\n",
       "      <td>Work exposure</td>\n",
       "      <td>Bursaries</td>\n",
       "    </tr>\n",
       "    <tr>\n",
       "      <th>freq</th>\n",
       "      <td>7</td>\n",
       "      <td>521</td>\n",
       "    </tr>\n",
       "  </tbody>\n",
       "</table>\n",
       "</div>"
      ],
      "text/plain": [
       "             KEYWORDS    Purpose\n",
       "count            4021       4021\n",
       "unique           3492          8\n",
       "top     Work exposure  Bursaries\n",
       "freq                7        521"
      ]
     },
     "execution_count": 8,
     "metadata": {},
     "output_type": "execute_result"
    }
   ],
   "source": [
    "data.describe()"
   ]
  },
  {
   "cell_type": "markdown",
   "id": "1907e257-08e1-448b-9f46-f192993fd442",
   "metadata": {},
   "source": [
    "## DATA PROCESSING"
   ]
  },
  {
   "cell_type": "markdown",
   "id": "397fd936-45a5-48b3-a9ce-253f5129585f",
   "metadata": {},
   "source": [
    "#### INVOKING THE LABEL ENCODER"
   ]
  },
  {
   "cell_type": "code",
   "execution_count": 11,
   "id": "7fb2540b-c0be-4843-937d-9bb99f086a47",
   "metadata": {},
   "outputs": [
    {
     "name": "stdout",
     "output_type": "stream",
     "text": [
      "KEYWORDS: [ 181 2594 1302 ... 3486 1527  890]\n",
      "Purpose: [2 0 3 6 7 1 4 5]\n"
     ]
    }
   ],
   "source": [
    "# loop through the columns in the dataframe where type is \"object\"\n",
    "for col in data.select_dtypes(include=[\"object\"]).columns:\n",
    "    #initialize a label encoder\n",
    "    label_encoder = LabelEncoder()\n",
    "\n",
    "    #fit the encoder to the unique values in the columns\n",
    "    label_encoder.fit(data[col].unique())\n",
    "\n",
    "    #transform the column usinf the encode\n",
    "    data[col] = label_encoder.transform(data[col])\n",
    "\n",
    "    #print the columns names and the unique encoded values\n",
    "    print(f\"{col}: {data[col].unique()}\")"
   ]
  },
  {
   "cell_type": "code",
   "execution_count": 12,
   "id": "55c628a1-21dc-4e4b-87ba-90d27a67bf7f",
   "metadata": {},
   "outputs": [
    {
     "name": "stdout",
     "output_type": "stream",
     "text": [
      "<class 'pandas.core.frame.DataFrame'>\n",
      "RangeIndex: 4021 entries, 0 to 4020\n",
      "Data columns (total 2 columns):\n",
      " #   Column    Non-Null Count  Dtype\n",
      "---  ------    --------------  -----\n",
      " 0   KEYWORDS  4021 non-null   int32\n",
      " 1   Purpose   4021 non-null   int32\n",
      "dtypes: int32(2)\n",
      "memory usage: 31.5 KB\n"
     ]
    }
   ],
   "source": [
    "data.info()"
   ]
  },
  {
   "cell_type": "code",
   "execution_count": 13,
   "id": "54236325-661c-4761-bf4f-0a23364c9141",
   "metadata": {},
   "outputs": [
    {
     "data": {
      "text/html": [
       "<div>\n",
       "<style scoped>\n",
       "    .dataframe tbody tr th:only-of-type {\n",
       "        vertical-align: middle;\n",
       "    }\n",
       "\n",
       "    .dataframe tbody tr th {\n",
       "        vertical-align: top;\n",
       "    }\n",
       "\n",
       "    .dataframe thead th {\n",
       "        text-align: right;\n",
       "    }\n",
       "</style>\n",
       "<table border=\"1\" class=\"dataframe\">\n",
       "  <thead>\n",
       "    <tr style=\"text-align: right;\">\n",
       "      <th></th>\n",
       "      <th>KEYWORDS</th>\n",
       "      <th>Purpose</th>\n",
       "    </tr>\n",
       "  </thead>\n",
       "  <tbody>\n",
       "    <tr>\n",
       "      <th>0</th>\n",
       "      <td>181</td>\n",
       "      <td>2</td>\n",
       "    </tr>\n",
       "    <tr>\n",
       "      <th>1</th>\n",
       "      <td>2594</td>\n",
       "      <td>2</td>\n",
       "    </tr>\n",
       "    <tr>\n",
       "      <th>2</th>\n",
       "      <td>1302</td>\n",
       "      <td>2</td>\n",
       "    </tr>\n",
       "    <tr>\n",
       "      <th>3</th>\n",
       "      <td>1187</td>\n",
       "      <td>2</td>\n",
       "    </tr>\n",
       "    <tr>\n",
       "      <th>4</th>\n",
       "      <td>1197</td>\n",
       "      <td>2</td>\n",
       "    </tr>\n",
       "  </tbody>\n",
       "</table>\n",
       "</div>"
      ],
      "text/plain": [
       "   KEYWORDS  Purpose\n",
       "0       181        2\n",
       "1      2594        2\n",
       "2      1302        2\n",
       "3      1187        2\n",
       "4      1197        2"
      ]
     },
     "execution_count": 13,
     "metadata": {},
     "output_type": "execute_result"
    }
   ],
   "source": [
    "data.head()"
   ]
  },
  {
   "cell_type": "markdown",
   "id": "c10487c5-be31-4cc6-ad7e-98e7da590f9e",
   "metadata": {},
   "source": [
    "#### Checking outliers using the z-score"
   ]
  },
  {
   "cell_type": "code",
   "execution_count": 15,
   "id": "267211dc-c9fc-440d-b9c2-3c0df7cd07ee",
   "metadata": {},
   "outputs": [
    {
     "name": "stdout",
     "output_type": "stream",
     "text": [
      "      KEYWORDS  Purpose\n",
      "0          181        2\n",
      "1         2594        2\n",
      "2         1302        2\n",
      "3         1187        2\n",
      "4         1197        2\n",
      "...        ...      ...\n",
      "4016      1526        5\n",
      "4017      1258        5\n",
      "4018      3486        5\n",
      "4019      1527        5\n",
      "4020       890        5\n",
      "\n",
      "[4021 rows x 2 columns]\n"
     ]
    }
   ],
   "source": [
    "# Define the function to remove outliers for numerical variables\n",
    "def remove_outliers(data_resampled, cols, threshold):\n",
    "    # Loop through the selected columns\n",
    "    for col in cols:\n",
    "        # Calculate the z-score for each data point in the selected columns\n",
    "        z = np.abs(stats.zscore(data_resampled[col]))\n",
    "        # Remove rows with z-score greater than the threshold\n",
    "        data_resampled = data_resampled[(z < threshold) | (data_resampled[col].isnull())]\n",
    "    # Return the updated DataFrame after processing all columns\n",
    "    return data_resampled\n",
    "\n",
    "# Apply the remove_outliers function to the numerical columns in the data\n",
    "data = remove_outliers(data, data.select_dtypes(include=['float64', 'int64']).columns, 2)\n",
    "\n",
    "# Print the updated data to verify outliers have been removed\n",
    "print(data)\n"
   ]
  },
  {
   "cell_type": "code",
   "execution_count": 16,
   "id": "769964b4-1d44-42e6-9591-1ad3cc03a2ff",
   "metadata": {},
   "outputs": [
    {
     "data": {
      "text/html": [
       "<div>\n",
       "<style scoped>\n",
       "    .dataframe tbody tr th:only-of-type {\n",
       "        vertical-align: middle;\n",
       "    }\n",
       "\n",
       "    .dataframe tbody tr th {\n",
       "        vertical-align: top;\n",
       "    }\n",
       "\n",
       "    .dataframe thead th {\n",
       "        text-align: right;\n",
       "    }\n",
       "</style>\n",
       "<table border=\"1\" class=\"dataframe\">\n",
       "  <thead>\n",
       "    <tr style=\"text-align: right;\">\n",
       "      <th></th>\n",
       "      <th>KEYWORDS</th>\n",
       "      <th>Purpose</th>\n",
       "    </tr>\n",
       "  </thead>\n",
       "  <tbody>\n",
       "    <tr>\n",
       "      <th>count</th>\n",
       "      <td>4021.000000</td>\n",
       "      <td>4021.000000</td>\n",
       "    </tr>\n",
       "    <tr>\n",
       "      <th>mean</th>\n",
       "      <td>1722.527729</td>\n",
       "      <td>3.492166</td>\n",
       "    </tr>\n",
       "    <tr>\n",
       "      <th>std</th>\n",
       "      <td>1011.431397</td>\n",
       "      <td>2.288137</td>\n",
       "    </tr>\n",
       "    <tr>\n",
       "      <th>min</th>\n",
       "      <td>0.000000</td>\n",
       "      <td>0.000000</td>\n",
       "    </tr>\n",
       "    <tr>\n",
       "      <th>25%</th>\n",
       "      <td>834.000000</td>\n",
       "      <td>2.000000</td>\n",
       "    </tr>\n",
       "    <tr>\n",
       "      <th>50%</th>\n",
       "      <td>1686.000000</td>\n",
       "      <td>3.000000</td>\n",
       "    </tr>\n",
       "    <tr>\n",
       "      <th>75%</th>\n",
       "      <td>2589.000000</td>\n",
       "      <td>5.000000</td>\n",
       "    </tr>\n",
       "    <tr>\n",
       "      <th>max</th>\n",
       "      <td>3491.000000</td>\n",
       "      <td>7.000000</td>\n",
       "    </tr>\n",
       "  </tbody>\n",
       "</table>\n",
       "</div>"
      ],
      "text/plain": [
       "          KEYWORDS      Purpose\n",
       "count  4021.000000  4021.000000\n",
       "mean   1722.527729     3.492166\n",
       "std    1011.431397     2.288137\n",
       "min       0.000000     0.000000\n",
       "25%     834.000000     2.000000\n",
       "50%    1686.000000     3.000000\n",
       "75%    2589.000000     5.000000\n",
       "max    3491.000000     7.000000"
      ]
     },
     "execution_count": 16,
     "metadata": {},
     "output_type": "execute_result"
    }
   ],
   "source": [
    "data.describe()"
   ]
  },
  {
   "cell_type": "code",
   "execution_count": 17,
   "id": "452f8d27-9cdc-4943-9f50-bda71becc04e",
   "metadata": {},
   "outputs": [
    {
     "data": {
      "text/plain": [
       "<Axes: >"
      ]
     },
     "execution_count": 17,
     "metadata": {},
     "output_type": "execute_result"
    },
    {
     "data": {
      "image/png": "[encoded data removed]",
      "text/plain": [
       "<Figure size 2000x1600 with 2 Axes>"
      ]
     },
     "metadata": {},
     "output_type": "display_data"
    }
   ],
   "source": [
    "plt.figure(figsize=(20, 16))\n",
    "sns.heatmap(data.corr(), fmt='0.2g', annot=True)"
   ]
  },
  {
   "cell_type": "markdown",
   "id": "c798293f-f39b-4e89-aa51-918d797c465d",
   "metadata": {},
   "source": [
    "## DATA SPLITTING"
   ]
  },
  {
   "cell_type": "code",
   "execution_count": 19,
   "id": "fcd2923f-a0ef-4d95-aa85-e822b04659ba",
   "metadata": {},
   "outputs": [
    {
     "data": {
      "text/html": [
       "<div>\n",
       "<style scoped>\n",
       "    .dataframe tbody tr th:only-of-type {\n",
       "        vertical-align: middle;\n",
       "    }\n",
       "\n",
       "    .dataframe tbody tr th {\n",
       "        vertical-align: top;\n",
       "    }\n",
       "\n",
       "    .dataframe thead th {\n",
       "        text-align: right;\n",
       "    }\n",
       "</style>\n",
       "<table border=\"1\" class=\"dataframe\">\n",
       "  <thead>\n",
       "    <tr style=\"text-align: right;\">\n",
       "      <th></th>\n",
       "      <th>KEYWORDS</th>\n",
       "      <th>Purpose</th>\n",
       "    </tr>\n",
       "  </thead>\n",
       "  <tbody>\n",
       "    <tr>\n",
       "      <th>0</th>\n",
       "      <td>181</td>\n",
       "      <td>2</td>\n",
       "    </tr>\n",
       "    <tr>\n",
       "      <th>1</th>\n",
       "      <td>2594</td>\n",
       "      <td>2</td>\n",
       "    </tr>\n",
       "    <tr>\n",
       "      <th>2</th>\n",
       "      <td>1302</td>\n",
       "      <td>2</td>\n",
       "    </tr>\n",
       "    <tr>\n",
       "      <th>3</th>\n",
       "      <td>1187</td>\n",
       "      <td>2</td>\n",
       "    </tr>\n",
       "    <tr>\n",
       "      <th>4</th>\n",
       "      <td>1197</td>\n",
       "      <td>2</td>\n",
       "    </tr>\n",
       "    <tr>\n",
       "      <th>5</th>\n",
       "      <td>2786</td>\n",
       "      <td>2</td>\n",
       "    </tr>\n",
       "    <tr>\n",
       "      <th>6</th>\n",
       "      <td>167</td>\n",
       "      <td>2</td>\n",
       "    </tr>\n",
       "    <tr>\n",
       "      <th>7</th>\n",
       "      <td>1066</td>\n",
       "      <td>2</td>\n",
       "    </tr>\n",
       "    <tr>\n",
       "      <th>8</th>\n",
       "      <td>2865</td>\n",
       "      <td>2</td>\n",
       "    </tr>\n",
       "    <tr>\n",
       "      <th>9</th>\n",
       "      <td>2766</td>\n",
       "      <td>2</td>\n",
       "    </tr>\n",
       "    <tr>\n",
       "      <th>10</th>\n",
       "      <td>1245</td>\n",
       "      <td>2</td>\n",
       "    </tr>\n",
       "    <tr>\n",
       "      <th>11</th>\n",
       "      <td>163</td>\n",
       "      <td>2</td>\n",
       "    </tr>\n",
       "    <tr>\n",
       "      <th>12</th>\n",
       "      <td>3126</td>\n",
       "      <td>2</td>\n",
       "    </tr>\n",
       "    <tr>\n",
       "      <th>13</th>\n",
       "      <td>2018</td>\n",
       "      <td>2</td>\n",
       "    </tr>\n",
       "    <tr>\n",
       "      <th>14</th>\n",
       "      <td>2800</td>\n",
       "      <td>2</td>\n",
       "    </tr>\n",
       "    <tr>\n",
       "      <th>15</th>\n",
       "      <td>2848</td>\n",
       "      <td>2</td>\n",
       "    </tr>\n",
       "    <tr>\n",
       "      <th>16</th>\n",
       "      <td>869</td>\n",
       "      <td>2</td>\n",
       "    </tr>\n",
       "    <tr>\n",
       "      <th>17</th>\n",
       "      <td>3136</td>\n",
       "      <td>2</td>\n",
       "    </tr>\n",
       "    <tr>\n",
       "      <th>18</th>\n",
       "      <td>1211</td>\n",
       "      <td>2</td>\n",
       "    </tr>\n",
       "    <tr>\n",
       "      <th>19</th>\n",
       "      <td>2591</td>\n",
       "      <td>2</td>\n",
       "    </tr>\n",
       "  </tbody>\n",
       "</table>\n",
       "</div>"
      ],
      "text/plain": [
       "    KEYWORDS  Purpose\n",
       "0        181        2\n",
       "1       2594        2\n",
       "2       1302        2\n",
       "3       1187        2\n",
       "4       1197        2\n",
       "5       2786        2\n",
       "6        167        2\n",
       "7       1066        2\n",
       "8       2865        2\n",
       "9       2766        2\n",
       "10      1245        2\n",
       "11       163        2\n",
       "12      3126        2\n",
       "13      2018        2\n",
       "14      2800        2\n",
       "15      2848        2\n",
       "16       869        2\n",
       "17      3136        2\n",
       "18      1211        2\n",
       "19      2591        2"
      ]
     },
     "execution_count": 19,
     "metadata": {},
     "output_type": "execute_result"
    }
   ],
   "source": [
    "data.head(20)"
   ]
  },
  {
   "cell_type": "code",
   "execution_count": 20,
   "id": "3a1ec2d6-04ce-49e6-a12f-9a42cf5432dd",
   "metadata": {},
   "outputs": [],
   "source": [
    "x = data.iloc[:,:1]\n",
    "y = data.iloc[:,1:]\n"
   ]
  },
  {
   "cell_type": "code",
   "execution_count": 21,
   "id": "f82a960f-aa62-48c2-8397-40b9accc3e08",
   "metadata": {},
   "outputs": [
    {
     "data": {
      "text/plain": [
       "Index(['KEYWORDS'], dtype='object')"
      ]
     },
     "execution_count": 21,
     "metadata": {},
     "output_type": "execute_result"
    }
   ],
   "source": [
    "x.columns"
   ]
  },
  {
   "cell_type": "code",
   "execution_count": 22,
   "id": "14a68de2-2f11-48c0-bd5a-e375b5dd0c66",
   "metadata": {},
   "outputs": [],
   "source": [
    "x1_train, x1_test, y1_train, y1_test = train_test_split(x, y, train_size = 0.8)"
   ]
  },
  {
   "cell_type": "code",
   "execution_count": 23,
   "id": "5e63be7b-0efe-430c-9f15-37d989319c9f",
   "metadata": {},
   "outputs": [
    {
     "name": "stdout",
     "output_type": "stream",
     "text": [
      "==================================================\n",
      "The training length of input is:  3216\n",
      "==================================================\n",
      "The training length of the output target is:  3216\n",
      "==================================================\n",
      "The training length of input validation is:  805\n",
      "==================================================\n",
      "The training length of the output validation is:  805\n",
      "==================================================\n"
     ]
    }
   ],
   "source": [
    "print(\"==================================================\")\n",
    "print(\"The training length of input is: \", len(x1_train))\n",
    "print(\"==================================================\")\n",
    "print(\"The training length of the output target is: \", len(y1_train))\n",
    "print(\"==================================================\")\n",
    "print(\"The training length of input validation is: \", len(x1_test))\n",
    "print(\"==================================================\")\n",
    "print(\"The training length of the output validation is: \", len(y1_test))\n",
    "print(\"==================================================\")"
   ]
  },
  {
   "cell_type": "code",
   "execution_count": 24,
   "id": "dd5d8369-7915-4c02-9981-e032e2bac0dc",
   "metadata": {},
   "outputs": [
    {
     "name": "stdout",
     "output_type": "stream",
     "text": [
      "      KEYWORDS\n",
      "1249       293\n",
      "399        618\n",
      "1319      1885\n",
      "1140      3074\n",
      "2667      3031\n",
      "...        ...\n",
      "2299       669\n",
      "56        1882\n",
      "503       1298\n",
      "2724      2379\n",
      "2023      2041\n",
      "\n",
      "[3216 rows x 1 columns]\n"
     ]
    }
   ],
   "source": [
    "print(x1_train)"
   ]
  },
  {
   "cell_type": "code",
   "execution_count": 25,
   "id": "5cdec027-c959-475e-a391-e3f26c57c61c",
   "metadata": {},
   "outputs": [
    {
     "name": "stdout",
     "output_type": "stream",
     "text": [
      "      Purpose\n",
      "2320        7\n",
      "1461        3\n",
      "1872        6\n",
      "2688        1\n",
      "3634        5\n",
      "...       ...\n",
      "1532        6\n",
      "3990        5\n",
      "1628        6\n",
      "1237        3\n",
      "502         2\n",
      "\n",
      "[805 rows x 1 columns]\n"
     ]
    }
   ],
   "source": [
    "print(y1_test)"
   ]
  },
  {
   "cell_type": "markdown",
   "id": "dd7bade4-9c7f-4a56-a0fe-d659f458b0b0",
   "metadata": {},
   "source": [
    "## TRAINING THE MODEL ON DIFFERENT ALGORITHMS"
   ]
  },
  {
   "cell_type": "markdown",
   "id": "c5aae58d-842b-4867-b39e-ee5dd61e6bb5",
   "metadata": {},
   "source": [
    "#### CLASSIFICATION ALGORITHMS"
   ]
  },
  {
   "cell_type": "code",
   "execution_count": 28,
   "id": "272cef15-c0ad-4e0f-b338-76870638c819",
   "metadata": {},
   "outputs": [
    {
     "data": {
      "text/plain": [
       "{'ccp_alpha': 0.0001,\n",
       " 'criterion': 'entropy',\n",
       " 'max_depth': 30,\n",
       " 'min_samples_split': 10,\n",
       " 'random_state': 0}"
      ]
     },
     "execution_count": 28,
     "metadata": {},
     "output_type": "execute_result"
    }
   ],
   "source": [
    "# 1. Extra tree classifier\n",
    "extra_tree_bot = ExtraTreesClassifier()\n",
    "\n",
    "\n",
    "\n",
    "params_extra_tree = {\n",
    "    'criterion':['gini','entropy','log_loss'],\n",
    "    'ccp_alpha': [0.0001,0.003,0.005,0.01],\n",
    "    'max_depth': [10,20,20,30,40],\n",
    "    'min_samples_split': [10,20,20,30],\n",
    "    'random_state':[0,10,16,42]\n",
    "}\n",
    "\n",
    "\n",
    "\n",
    "# Grid Search CV\n",
    "ET_BOT = GridSearchCV(extra_tree_bot,params_extra_tree,cv=5)\n",
    "ET_BOT.fit(x1_train,y1_train.values.ravel())\n",
    "ET_BOT.best_params_"
   ]
  },
  {
   "cell_type": "code",
   "execution_count": 29,
   "id": "09049ec1-7bd9-451a-802f-7fd7e73c3a7c",
   "metadata": {},
   "outputs": [
    {
     "name": "stdout",
     "output_type": "stream",
     "text": [
      "Accuracy: 0.71\n",
      "Precision: 0.71\n",
      "Recall: 0.71\n",
      "F1 Score: 0.70\n"
     ]
    }
   ],
   "source": [
    "ET_DM_PRED = ET_BOT.predict(x1_test)\n",
    "\n",
    "\n",
    "#3. Gradient Boosting classifier\n",
    "# Calculate and print the metrics\n",
    "accuracy_etc = accuracy_score(y1_test, ET_DM_PRED)\n",
    "precision_etc = precision_score(y1_test, ET_DM_PRED, average='weighted')\n",
    "recall_etc = recall_score(y1_test, ET_DM_PRED, average='weighted')\n",
    "f1_etc = f1_score(y1_test, ET_DM_PRED, average='weighted')\n",
    "\n",
    "print(f\"Accuracy: {accuracy_etc:.2f}\")\n",
    "print(f\"Precision: {precision_etc:.2f}\")\n",
    "print(f\"Recall: {recall_etc:.2f}\")\n",
    "print(f\"F1 Score: {f1_etc:.2f}\")"
   ]
  },
  {
   "cell_type": "code",
   "execution_count": 59,
   "id": "e4469cf0-f9f3-4c4d-87be-60e9dcf4eb37",
   "metadata": {},
   "outputs": [],
   "source": [
    "import pickle\n",
    "# label_encoder = LabelEncoder()\n",
    "\n",
    "\n",
    "pickle.dump(ET_BOT, open('ET_BOT.pkl','wb'))\n",
    "\n",
    "with open('ET_BOT.pkl','rb') as f:\n",
    "    ET_DM = pickle.load(f)"
   ]
  },
  {
   "cell_type": "code",
   "execution_count": 79,
   "id": "47274bae-8507-4059-9b5e-f5a517eb50e9",
   "metadata": {},
   "outputs": [
    {
     "name": "stdout",
     "output_type": "stream",
     "text": [
      "['Apprenticeships Grant']\n"
     ]
    }
   ],
   "source": [
    "# Create a DataFrame with the correct feature names\n",
    "test_data = pd.DataFrame([[400]], columns=x1_train.columns)\n",
    "\n",
    "# Make predictions\n",
    "predictions = ET_BOT.predict(test_data)\n",
    "\n",
    "# Inverse the label encoding\n",
    "inversed_predictions = label_encoder.inverse_transform(predictions)\n",
    "print(inversed_predictions)\n"
   ]
  },
  {
   "cell_type": "code",
   "execution_count": null,
   "id": "9a5731a4-c37b-4b49-a861-b5e012a5e894",
   "metadata": {},
   "outputs": [],
   "source": []
  }
 ],
 "metadata": {
  "kernelspec": {
   "display_name": "Python 3 (ipykernel)",
   "language": "python",
   "name": "python3"
  },
  "language_info": {
   "codemirror_mode": {
    "name": "ipython",
    "version": 3
   },
   "file_extension": ".py",
   "mimetype": "text/x-python",
   "name": "python",
   "nbconvert_exporter": "python",
   "pygments_lexer": "ipython3",
   "version": "3.12.4"
  }
 },
 "nbformat": 4,
 "nbformat_minor": 5
}
